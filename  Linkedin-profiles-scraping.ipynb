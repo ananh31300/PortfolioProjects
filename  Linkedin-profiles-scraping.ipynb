{
 "cells": [
  {
   "cell_type": "code",
   "execution_count": 1,
   "id": "9b00fd23",
   "metadata": {},
   "outputs": [],
   "source": [
    "#import Libraries\n",
    "from selenium import webdriver\n",
    "from bs4 import BeautifulSoup\n",
    "from selenium.webdriver.common.keys import Keys\n",
    "from selenium.webdriver.common.by import By\n",
    "import time\n",
    "import csv\n",
    "import os"
   ]
  },
  {
   "cell_type": "markdown",
   "id": "58b865f9",
   "metadata": {},
   "source": [
    "# Task 1: Login to linkedin\n"
   ]
  },
  {
   "cell_type": "code",
   "execution_count": 2,
   "id": "3b9586cb",
   "metadata": {},
   "outputs": [],
   "source": [
    "# Task 1.1 Open Chrome and Access linkedin login site\n",
    "os.environ['PATH']= r\"D:\\Chrome Driver\"\n",
    "driver= webdriver.Chrome()\n",
    "driver.get('https://www.linkedin.com/checkpoint/lg/sign-in-another-account')"
   ]
  },
  {
   "cell_type": "code",
   "execution_count": 3,
   "id": "83847938",
   "metadata": {},
   "outputs": [
    {
     "name": "stdout",
     "output_type": "stream",
     "text": [
      "- Finish Task 1: Login to Linkedin\n"
     ]
    }
   ],
   "source": [
    "\n",
    "with open('D:\\\\Luyện tập python\\\\selenium\\\\taikhoan.csv','r',newline='') as f:\n",
    "    reader= csv.DictReader(f)\n",
    "    for row in reader:\n",
    "        u = row['user']\n",
    "        p = row['password']\n",
    "user_name = driver.find_element(By.NAME,'session_key').send_keys(u)\n",
    "time.sleep(2)\n",
    "user_name = driver.find_element(By.NAME,'session_password').send_keys(p)\n",
    "time.sleep(2)\n",
    "login = driver.find_element(By.XPATH,'//*[@id=\"organic-div\"]/form/div[3]/button').click()\n",
    "driver.implicitly_wait(5)\n",
    "print('- Finish Task 1: Login to Linkedin')\n"
   ]
  },
  {
   "cell_type": "markdown",
   "id": "d446ba0a",
   "metadata": {},
   "source": [
    "# Task 2: Search for the profile we want to crawl\n"
   ]
  },
  {
   "cell_type": "code",
   "execution_count": 4,
   "id": "6fe179d9",
   "metadata": {},
   "outputs": [
    {
     "name": "stdout",
     "output_type": "stream",
     "text": [
      "- Finish Task 2: Search for profiles\n"
     ]
    }
   ],
   "source": [
    "# Task 2.1: Locate the search bar element\n",
    "find = input('nhập ô tìm kiếm')\n",
    "search = driver.find_element(By.XPATH,'//*[@id=\"global-nav-typeahead\"]/input').send_keys('find')\n",
    "time.sleep(2)\n",
    "click_enter = driver.find_element(By.XPATH,'//*[@id=\"global-nav-typeahead\"]/input').send_keys(Keys.RETURN)\n",
    "time.sleep(2)\n",
    "see_all_result = driver.find_element(By.XPATH,'//*[@id=\"main\"]/div/div/div[2]/div[2]/a').click()\n",
    "print('- Finish Task 2: Search for profiles')"
   ]
  },
  {
   "cell_type": "markdown",
   "id": "6a9807e1",
   "metadata": {},
   "source": [
    "# Task 3: Scrape the URLs of the profiles"
   ]
  },
  {
   "cell_type": "code",
   "execution_count": 14,
   "id": "30b14d3f",
   "metadata": {},
   "outputs": [],
   "source": [
    "def getURL():\n",
    "    page_soucre = BeautifulSoup(driver.page_source,'html.parser')\n",
    "    ul = page_soucre.find('ul',attrs={'class':'reusable-search__entity-result-list list-style-none'})\n",
    "    url_all= []\n",
    "    profiles=ul.find_all('li',attrs={'class':'reusable-search__result-container'})\n",
    "    for profile in profiles:\n",
    "        profile_url=profile.find('a')['href']\n",
    "        if profile_url not in url_all:\n",
    "            url_all.append(profile_url)\n",
    "    return url_all\n"
   ]
  },
  {
   "cell_type": "code",
   "execution_count": 20,
   "id": "b1321866",
   "metadata": {},
   "outputs": [
    {
     "name": "stdout",
     "output_type": "stream",
     "text": [
      "- Finish Task 3: Scrape the URLs\n"
     ]
    }
   ],
   "source": [
    "# Task 3.2: Navigate through many page, and extract the profile URLs of each page\n",
    "input_page = int(input('How many pages you want to scrape: '))\n",
    "URLs_all_page = []\n",
    "for page in range(input_page-1):\n",
    "    URLs_one_page = getURL()\n",
    "    time.sleep(2)\n",
    "    driver.execute_script('window.scrollTo(0, document.body.scrollHeight);') \n",
    "    next_button= driver.find_element(By.CLASS_NAME,'artdeco-pagination__button--next')\n",
    "    driver.execute_script(\"arguments[0].click();\", next_button)\n",
    "    time.sleep(4)\n",
    "    URLs_all_page = URLs_all_page + URLs_one_page\n",
    "    time.sleep(2)\n",
    "print('- Finish Task 3: Scrape the URLs')"
   ]
  },
  {
   "cell_type": "code",
   "execution_count": 21,
   "id": "633d5c61",
   "metadata": {},
   "outputs": [
    {
     "name": "stdout",
     "output_type": "stream",
     "text": [
      "['https://www.linkedin.com/in/trucnguyen1112', 'https://www.linkedin.com/in/thanhdiep23', 'https://www.linkedin.com/in/long-truong-1206', 'https://www.linkedin.com/in/khakhanhlinh', 'https://www.linkedin.com/in/nguy%E1%BB%85n-tho%E1%BA%A1i-850556118', 'https://www.linkedin.com/in/katereena-tran', 'https://www.linkedin.com/in/nga-nguyen-thi-thanh-3b65b3169', 'https://www.linkedin.com/in/phuong-tran-minh-991816160', 'https://www.linkedin.com/in/phamdinhtuan', 'https://www.linkedin.com/in/loandangnt']\n"
     ]
    }
   ],
   "source": [
    "print(URLs_all_page)"
   ]
  },
  {
   "cell_type": "code",
   "execution_count": 65,
   "id": "f6fa214b",
   "metadata": {},
   "outputs": [
    {
     "name": "stdout",
     "output_type": "stream",
     "text": [
      "- Accessing profile:  https://www.linkedin.com/in/trucnguyen1112\n",
      "--- Profile name is:  Shino Nguyen\n",
      "--- Profile location is:  Vietnam\n",
      "--- Profile title is:  People Data Analyst - HR Systems & Planning Team of RUVN\n",
      "Thaco Group      VNUHCM - University of Science\n",
      "\n",
      "\n",
      "- Accessing profile:  https://www.linkedin.com/in/thanhdiep23\n",
      "--- Profile name is:  Diep Nguyen (Chloe)\n",
      "--- Profile location is:  Ho Chi Minh City, Vietnam\n",
      "--- Profile title is:  People Data Analyst\n",
      "Thaco Group      VNUHCM - University of Science\n",
      "\n",
      "\n",
      "- Accessing profile:  https://www.linkedin.com/in/long-truong-1206\n",
      "--- Profile name is:  Trương Thành Long\n",
      "--- Profile location is:  Ho Chi Minh City, Vietnam\n",
      "--- Profile title is:  HR Data Analyst (People Analytics) at THACO GROUP\n",
      "Thaco Group      VNUHCM - University of Science\n",
      "\n",
      "\n",
      "- Accessing profile:  https://www.linkedin.com/in/khakhanhlinh\n",
      "--- Profile name is:  Linh Kha\n",
      "--- Profile location is:  Ho Chi Minh City, Vietnam\n",
      "--- Profile title is:  Data Analyst | Research Assistant\n",
      "Thaco Group      VNUHCM - University of Science\n",
      "\n",
      "\n",
      "- Accessing profile:  https://www.linkedin.com/in/nguy%E1%BB%85n-tho%E1%BA%A1i-850556118\n",
      "--- Profile name is:  Nguyễn Thoại\n",
      "--- Profile location is:  Vietnam\n",
      "--- Profile title is:  Data Analyst at Fpt telecom\n",
      "Thaco Group      VNUHCM - University of Science\n",
      "\n",
      "\n",
      "- Accessing profile:  https://www.linkedin.com/in/katereena-tran\n",
      "--- Profile name is:  Katereena Tran\n",
      "--- Profile location is:  Vietnam\n",
      "--- Profile title is:  Data Analyst at BIDV - Ngân hàng TMCP Đầu tư & Phát triển Việt Nam\n",
      "Thaco Group      VNUHCM - University of Science\n",
      "\n",
      "\n",
      "- Accessing profile:  https://www.linkedin.com/in/nga-nguyen-thi-thanh-3b65b3169\n",
      "--- Profile name is:  Nga Nguyen Thi Thanh\n",
      "--- Profile location is:  Vietnam\n",
      "--- Profile title is:  Data Analyst at Home Credit Vietnam\n",
      "Thaco Group      VNUHCM - University of Science\n",
      "\n",
      "\n",
      "- Accessing profile:  https://www.linkedin.com/in/phuong-tran-minh-991816160\n",
      "--- Profile name is:  Phuong Tran Minh\n",
      "--- Profile location is:  Hanoi, Hanoi, Vietnam\n",
      "--- Profile title is:  Data Analyst at Viettel Digital\n",
      "Thaco Group      VNUHCM - University of Science\n",
      "\n",
      "\n",
      "- Accessing profile:  https://www.linkedin.com/in/phamdinhtuan\n",
      "--- Profile name is:  Dinh Tuan Pham\n",
      "--- Profile location is:  Ho Chi Minh City, Vietnam\n",
      "--- Profile title is:  Data Analyst at Home Credit Vietnam\n",
      "Thaco Group      VNUHCM - University of Science\n",
      "\n",
      "\n",
      "- Accessing profile:  https://www.linkedin.com/in/loandangnt\n",
      "--- Profile name is:  Loan Dang (Sunny)\n",
      "--- Profile location is:  Ho Chi Minh City, Vietnam\n",
      "--- Profile title is:  Data Analyst | MBA Graduate\n",
      "Thaco Group      VNUHCM - University of Science\n",
      "\n",
      "\n"
     ]
    }
   ],
   "source": [
    "# Task 4: Scrape the data of 1 Linkedin profile, and write the data to a .CSV file\n",
    "with open('output.csv', 'w',  newline = '',encoding=\"utf-8\") as file_output:\n",
    "    headers = ['Name','Location','Job Title','URL']\n",
    "    writer = csv.DictWriter(file_output, delimiter=',', lineterminator='\\n',fieldnames=headers)\n",
    "    writer.writeheader()\n",
    "    for linkedin_URL in URLs_all_page:\n",
    "        driver.get(linkedin_URL)\n",
    "        print('- Accessing profile: ', linkedin_URL)\n",
    "        \n",
    "        page_source = BeautifulSoup(driver.page_source, \"html.parser\")\n",
    "        info_div = page_source.find('div',{'class':'mt2 relative'})\n",
    "        name = info_div.find('h1').text\n",
    "        title= info_div.find('div',{'class':'text-body-medium break-words'}).get_text().strip()\n",
    "        #title2 =info_div.find('ul',{'class':'pv-text-details__right-panel'}).get_text().replace('\\n','').strip()\n",
    "        location=info_div.find('span',{'class':'text-body-small inline t-black--light break-words'}).get_text().strip()\n",
    "        print('--- Profile name is: ',name)\n",
    "        print('--- Profile location is: ',location)\n",
    "        print('--- Profile title is: ',title)\n",
    "        print(title2)\n",
    "        writer.writerow({headers[0]:name,headers[1]:location,headers[2]:title,headers[3]:linkedin_URL})\n",
    "        print('\\n')"
   ]
  },
  {
   "cell_type": "code",
   "execution_count": null,
   "id": "9267649b",
   "metadata": {},
   "outputs": [],
   "source": []
  }
 ],
 "metadata": {
  "kernelspec": {
   "display_name": "Python 3 (ipykernel)",
   "language": "python",
   "name": "python3"
  },
  "language_info": {
   "codemirror_mode": {
    "name": "ipython",
    "version": 3
   },
   "file_extension": ".py",
   "mimetype": "text/x-python",
   "name": "python",
   "nbconvert_exporter": "python",
   "pygments_lexer": "ipython3",
   "version": "3.9.7"
  }
 },
 "nbformat": 4,
 "nbformat_minor": 5
}
